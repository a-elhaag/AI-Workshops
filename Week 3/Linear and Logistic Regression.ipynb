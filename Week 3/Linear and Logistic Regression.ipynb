{
 "cells": [
  {
   "cell_type": "markdown",
   "metadata": {},
   "source": [
    "# Introduction to Linear and Logistic Regression\n",
    "\n",
    "This notebook provides an overview of Linear and Logistic Regression, including implementations with and without scikit-learn, and deployment on Azure ML using the GUI.\n",
    "\n",
    "## Before we start I will import the required libraries."
   ]
  },
  {
   "cell_type": "code",
   "execution_count": null,
   "metadata": {},
   "outputs": [],
   "source": [
    "import numpy as np\n",
    "import matplotlib.pyplot as plt\n",
    "from sklearn.linear_model import LinearRegression\n",
    "from sklearn.linear_model import LogisticRegression"
   ]
  },
  {
   "cell_type": "markdown",
   "metadata": {},
   "source": [
    "## Linear Regression\n",
    "\n",
    "### Overview\n",
    "Linear Regression predicts a dependent variable \\( y \\) based on one or more independent variables \\( x \\)."
   ]
  },
  {
   "cell_type": "markdown",
   "metadata": {},
   "source": [
    "#### 1. Linear Regression Without scikit-learn"
   ]
  },
  {
   "cell_type": "code",
   "execution_count": null,
   "metadata": {},
   "outputs": [],
   "source": [
    "# Sample data\n",
    "x = np.array([1, 2, 3, 4, 5])  # Independent variable\n",
    "y = np.array([2, 3, 5, 6, 5])  # Dependent variable\n",
    "\n",
    "# Calculate slope (m) and intercept (c)\n",
    "m = (np.mean(x) * np.mean(y) - np.mean(x * y)) / (np.mean(x)**2 - np.mean(x**2))  # Slope\n",
    "c = np.mean(y) - m * np.mean(x)  # Intercept\n",
    "\n",
    "# Predict y values using the linear equation\n",
    "y_pred = m * x + c\n",
    "\n",
    "# Plot the original data and the linear regression line\n",
    "plt.scatter(x, y, color='blue', label='Data Points')  # Original data points\n",
    "plt.plot(x, y_pred, color='red', label='Regression Line')  # Regression line\n",
    "plt.xlabel('Independent Variable (x)')\n",
    "plt.ylabel('Dependent Variable (y)')\n",
    "plt.title('Linear Regression')\n",
    "plt.legend()\n",
    "plt.grid(True)\n",
    "plt.show()"
   ]
  },
  {
   "cell_type": "markdown",
   "metadata": {},
   "source": [
    "#### 2. Linear Regression With scikit-learn"
   ]
  },
  {
   "cell_type": "code",
   "execution_count": null,
   "metadata": {},
   "outputs": [],
   "source": [
    "# Sample data\n",
    "x = np.array([1, 2, 3, 4, 5]).reshape(-1, 1)  # Reshape to 2D array for scikit-learn\n",
    "y = np.array([2, 3, 5, 6, 5])\n",
    "\n",
    "# Create and fit the model\n",
    "model = LinearRegression()\n",
    "model.fit(x, y)\n",
    "\n",
    "# Predict y values using the fitted model\n",
    "y_pred = model.predict(x)\n",
    "\n",
    "# Plot the original data and the linear regression line\n",
    "plt.scatter(x, y, color='blue', label='Data Points')  # Original data points\n",
    "plt.plot(x, y_pred, color='red', label='Regression Line')  # Regression line\n",
    "plt.xlabel('Independent Variable (x)')\n",
    "plt.ylabel('Dependent Variable (y)')\n",
    "plt.title('Linear Regression with scikit-learn')\n",
    "plt.legend()\n",
    "plt.grid(True)\n",
    "plt.show()"
   ]
  },
  {
   "cell_type": "markdown",
   "metadata": {},
   "source": [
    "## Logistic Regression\n",
    "### Overview\n",
    "Logistic Regression is used for binary classification problems, predicting outcomes such as yes/no or pass/fail.\n",
    "\n"
   ]
  },
  {
   "cell_type": "markdown",
   "metadata": {},
   "source": [
    "#### 1. Logistic Regression Without scikit-learn"
   ]
  },
  {
   "cell_type": "code",
   "execution_count": null,
   "metadata": {},
   "outputs": [],
   "source": [
    "def sigmoid(z):\n",
    "    return 1 / (1 + np.exp(-z))\n",
    "\n",
    "# Sample data\n",
    "x = np.array([1, 2, 3, 4, 5])  # Independent variable\n",
    "y = np.array([0, 0, 1, 1, 1])  # Dependent variable\n",
    "\n",
    "# Initialize coefficients\n",
    "b0, b1 = 0, 0\n",
    "learning_rate = 0.01\n",
    "epochs = 1000\n",
    "\n",
    "# Gradient Descent to optimize coefficients\n",
    "for _ in range(epochs):\n",
    "    z = b0 + b1 * x  # Linear combination\n",
    "    predictions = sigmoid(z)  # Predictions using sigmoid function\n",
    "    error = y - predictions  # Error\n",
    "    b0 += learning_rate * error.mean()  # Update intercept (b0)\n",
    "    b1 += learning_rate * (error * x).mean()  # Update slope (b1)\n",
    "\n",
    "# Predictions\n",
    "predictions = sigmoid(b0 + b1 * x)\n",
    "\n",
    "# Plot the data and the decision boundary\n",
    "plt.scatter(x, y, color='blue', label='Data Points')  # Original data points\n",
    "plt.plot(x, predictions, color='red', label='Decision Boundary')  # Decision boundary\n",
    "plt.xlabel('Independent Variable (x)')\n",
    "plt.ylabel('Probability')\n",
    "plt.title('Logistic Regression without scikit-learn')\n",
    "plt.legend()\n",
    "plt.grid(True)\n",
    "plt.show()"
   ]
  },
  {
   "cell_type": "markdown",
   "metadata": {},
   "source": [
    "#### 2. Logistic Regression With scikit-learn"
   ]
  },
  {
   "cell_type": "code",
   "execution_count": null,
   "metadata": {},
   "outputs": [],
   "source": [
    "x = np.array([1, 2, 3, 4, 5]).reshape(-1, 1)  # Reshape to 2D array for scikit-learn\n",
    "y = np.array([0, 0, 1, 1, 1])\n",
    "\n",
    "# Create and fit the model\n",
    "model = LogisticRegression()\n",
    "model.fit(x, y)\n",
    "\n",
    "# Predict binary outcomes using the fitted model\n",
    "predictions = model.predict_proba(x)[:, 1]  # Probability of class 1\n",
    "\n",
    "# Plot the data and the decision boundary\n",
    "plt.scatter(x, y, color='blue', label='Data Points')  # Original data points\n",
    "plt.plot(x, predictions, color='red', label='Decision Boundary')  # Decision boundary\n",
    "plt.xlabel('Independent Variable (x)')\n",
    "plt.ylabel('Probability')\n",
    "plt.title('Logistic Regression with scikit-learn')\n",
    "plt.legend()\n",
    "plt.grid(True)\n",
    "plt.show()"
   ]
  }
 ],
 "metadata": {
  "kernelspec": {
   "display_name": "Python 3",
   "language": "python",
   "name": "python3"
  },
  "language_info": {
   "codemirror_mode": {
    "name": "ipython",
    "version": 3
   },
   "file_extension": ".py",
   "mimetype": "text/x-python",
   "name": "python",
   "nbconvert_exporter": "python",
   "pygments_lexer": "ipython3",
   "version": "3.12.4"
  }
 },
 "nbformat": 4,
 "nbformat_minor": 2
}
